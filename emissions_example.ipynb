{
 "cells": [
  {
   "cell_type": "code",
   "execution_count": 26,
   "id": "26c6931a-a8a8-4bd8-b959-f2d21c891c54",
   "metadata": {
    "scrolled": true
   },
   "outputs": [],
   "source": [
    "import pandas as pd\n",
    "import numpy as np\n",
    "from sklearn.linear_model import LinearRegression\n",
    "\n",
    "# change this to the file you're using and change the index_col as needed\n",
    "df = pd.read_excel(\"Sample Emissions.xlsx\", index_col=\"Sector\")\n",
    "\n",
    "coefs = {}\n",
    "\n",
    "# by changing the index above, each item should correspond to a row in the dataframe\n",
    "# we want to loop through each row and get the slopes\n",
    "for ind in df.index:\n",
    "\n",
    "    # fit a line to the row\n",
    "    reg = LinearRegression().fit(np.array(df.loc[ind].index).reshape(-1, 1), df.loc[ind])\n",
    "\n",
    "    # store the slope\n",
    "    coefs[ind] = reg.coef_\n",
    "\n",
    "# convert the dictionary to a dataframe for sorting\n",
    "pd.DataFrame.from_dict(coefs, orient='index', columns=['Coefficient'])"
   ]
  }
 ],
 "metadata": {
  "kernelspec": {
   "display_name": "Python 3 (ipykernel)",
   "language": "python",
   "name": "python3"
  },
  "language_info": {
   "codemirror_mode": {
    "name": "ipython",
    "version": 3
   },
   "file_extension": ".py",
   "mimetype": "text/x-python",
   "name": "python",
   "nbconvert_exporter": "python",
   "pygments_lexer": "ipython3",
   "version": "3.10.8"
  }
 },
 "nbformat": 4,
 "nbformat_minor": 5
}
